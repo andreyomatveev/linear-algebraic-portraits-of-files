{
 "cells": [
  {
   "attachments": {},
   "cell_type": "markdown",
   "metadata": {},
   "source": [
    "Let us consdider the text file Desdemona.txt that consists of the string:\n",
    "\n",
    "Have you pray'd to-night, Desdemona?\n",
    "\n",
    "Let us take the view of the file as the 8 x 36 binary matrix/array whose columns are the `transposed' bytes (in the context of ASCII/UTF-8 encoding) of the file. By our convention, the rows and columns of the array are indexed starting with 1. \n",
    "\n",
    "We can have a look at this array by running the code:"
   ]
  },
  {
   "cell_type": "code",
   "execution_count": 2,
   "metadata": {},
   "outputs": [
    {
     "name": "stdout",
     "output_type": "stream",
     "text": [
      "000000000000000000000000000000000000\n",
      "111101110111101011011111001111111110\n",
      "011111111111111111111111110111111111\n",
      "001001010110100010000001000010000001\n",
      "100001100000100001111010100000011101\n",
      "001100110000011011110101101101111101\n",
      "001000100010010001010100000010001101\n",
      "010101110001110001101100000110111011\n"
     ]
    }
   ],
   "source": [
    "from bitstring import Bits\n",
    "\n",
    "\n",
    "bits_of_our_file_as_bools = Bits(filename=\"Desdemona.txt\")\n",
    "for k in range(0, 8):\n",
    "    bits_in_the_same_position_k = bits_of_our_file_as_bools[k::8]\n",
    "    print(bits_in_the_same_position_k.bin)\n"
   ]
  },
  {
   "attachments": {},
   "cell_type": "markdown",
   "metadata": {},
   "source": [
    "The file Desdemona.txt is perfectly small for being also inspected with the help of pandas-2:"
   ]
  },
  {
   "cell_type": "code",
   "execution_count": 7,
   "metadata": {},
   "outputs": [
    {
     "name": "stdout",
     "output_type": "stream",
     "text": [
      "           1      2      3      4      5      6      7      8      9      10   \n",
      "bit 1:  False  False  False  False  False  False  False  False  False  False  \\\n",
      "bit 2:   True   True   True   True  False   True   True   True  False   True   \n",
      "bit 3:  False   True   True   True   True   True   True   True   True   True   \n",
      "bit 4:  False  False   True  False  False   True  False   True  False   True   \n",
      "bit 5:   True  False  False  False  False   True   True  False  False  False   \n",
      "bit 6:  False  False   True   True  False  False   True   True  False  False   \n",
      "bit 7:  False  False   True  False  False  False   True  False  False  False   \n",
      "bit 8:  False   True  False   True  False   True   True   True  False  False   \n",
      "\n",
      "        ...     27     28     29     30     31     32     33     34     35   \n",
      "bit 1:  ...  False  False  False  False  False  False  False  False  False  \\\n",
      "bit 2:  ...   True   True   True   True   True   True   True   True   True   \n",
      "bit 3:  ...  False   True   True   True   True   True   True   True   True   \n",
      "bit 4:  ...  False  False   True  False  False  False  False  False  False   \n",
      "bit 5:  ...  False  False  False  False  False   True   True   True  False   \n",
      "bit 6:  ...   True   True  False   True   True   True   True   True  False   \n",
      "bit 7:  ...  False  False   True  False  False  False   True   True  False   \n",
      "bit 8:  ...  False   True   True  False   True   True   True  False   True   \n",
      "\n",
      "           36  \n",
      "bit 1:  False  \n",
      "bit 2:  False  \n",
      "bit 3:   True  \n",
      "bit 4:   True  \n",
      "bit 5:   True  \n",
      "bit 6:   True  \n",
      "bit 7:   True  \n",
      "bit 8:   True  \n",
      "\n",
      "[8 rows x 36 columns]\n"
     ]
    }
   ],
   "source": [
    "import pyarrow\n",
    "import pandas as pd\n",
    "\n",
    "from bitstring import Bits\n",
    "\n",
    "indices = [\"bit 1:\", \"bit 2:\", \"bit 3:\", \"bit 4:\",\n",
    "           \"bit 5:\", \"bit 6:\", \"bit 7:\", \"bit 8:\"]\n",
    "\n",
    "bits_of_our_file_as_bools = Bits(filename=\"Desdemona.txt\")\n",
    "\n",
    "our_bytes_for_pd_series = dict()\n",
    "counter = 0\n",
    "for byte in bits_of_our_file_as_bools.cut(8):\n",
    "    counter += 1\n",
    "    our_bytes_for_pd_series[counter] = pd.Series(\n",
    "        byte, index=indices, dtype=\"bool[pyarrow]\")\n",
    "\n",
    "our_df = pd.DataFrame(our_bytes_for_pd_series)\n",
    "\n",
    "print(our_df)\n"
   ]
  },
  {
   "attachments": {},
   "cell_type": "markdown",
   "metadata": {},
   "source": [
    "All that remains to do now is to make the imaginable substitutions (0 -> 1) and (1 -> -1) for the entries of our initial array, and then \n",
    "to apply Proposition 5.9 (essentially Proposition 2.4 from the preprint https://arxiv.org/abs/1801.02601) from the monograph Symmetric Cycles, Singapore: Jenny Stanford Publishing, 2023, to the resulting rows:  "
   ]
  },
  {
   "cell_type": "code",
   "execution_count": 8,
   "metadata": {},
   "outputs": [
    {
     "name": "stdout",
     "output_type": "stream",
     "text": [
      "\n",
      "8\n",
      "36\n",
      "deque([0])\n",
      "deque([4, 8, 13, 15, 18, 24, 35, 41, 45, 50, 52, 55, 62])\n",
      "deque([26, 37, 63])\n",
      "deque([3, 6, 8, 11, 13, 17, 24, 29, 38, 41, 43, 45, 48, 52, 59, 64, 71])\n",
      "deque([1, 7, 13, 21, 23, 25, 34, 36, 41, 48, 53, 58, 60, 67, 71])\n",
      "deque([4, 8, 15, 20, 22, 25, 28, 34, 38, 42, 49, 52, 57, 59, 62, 65, 71])\n",
      "deque([3, 7, 11, 14, 18, 20, 22, 29, 34, 38, 42, 46, 49, 53, 55, 57, 64, 68, 71])\n",
      "deque([2, 4, 8, 14, 19, 22, 29, 33, 37, 39, 41, 47, 53, 56, 63, 66, 70])\n"
     ]
    }
   ],
   "source": [
    "from bitstring import Bits\n",
    "from itertools import groupby\n",
    "from collections import deque\n",
    "\n",
    "\n",
    "def to_deque_indices_of_vectors_in_decomp_sequence_wrt_disting_symm_cycle(bstring: Bits) -> deque[int]:\n",
    "\n",
    "    size = len(bstring)\n",
    "\n",
    "    # The following heavy-weight function is split below into smaller fragments.\n",
    "    inclusion_maximal_intervals_of_the_negative_part = deque(map(lambda b: (b[0][1], b[-1][1]),\n",
    "                                                             map(lambda p: deque(p[1]),\n",
    "                                                                 filter(lambda group: group[0],\n",
    "                                                                        groupby(zip(bstring, range(len(bstring))),\n",
    "                                                                                lambda b_i: b_i[0])))))\n",
    "    # Uncomment four lines below if you wish to split the above heavy-weight function into lighter fragments.\n",
    "    #\n",
    "    # b_indexed = zip(bstring, range(len(bstring)))\n",
    "    # grouped = groupby(b_indexed, lambda b_i: b_i[0])\n",
    "    # inclusion_maximal_blocks_of_the_negative_part = map(lambda p: deque(p[1]), filter(lambda group: group[0], grouped))\n",
    "    # inclusion_maximal_intervals_of_the_negative_part = deque(map(lambda b: (b[0][1], b[-1][1]), inclusion_maximal_blocks_of_the_negative_part))\n",
    "\n",
    "    rho = len(inclusion_maximal_intervals_of_the_negative_part)\n",
    "    part_of_indices_plus, part_of_indices_minus = deque(), deque()\n",
    "\n",
    "    # The if-elif-else fragment starting here merely automates the key Proposition 5.9\n",
    "    # (essentially Proposition 2.4 from the preprint https://arxiv.org/abs/1801.02601)\n",
    "    # from the monograph Symmetric Cycles, Singapore: Jenny Stanford Publishing, to appear.\n",
    "    # Attention: Proposition 5.9 was formulated for {1,-1}-vectors!\n",
    "    if bstring[0] and not bstring[-1]:  # see Proposition 5.9(i)\n",
    "        part_of_indices_plus.append(\n",
    "            inclusion_maximal_intervals_of_the_negative_part[0][1]+1)\n",
    "        for p in range(2, rho + 1):\n",
    "            part_of_indices_plus.append(\n",
    "                inclusion_maximal_intervals_of_the_negative_part[p-1][1]+1)\n",
    "            part_of_indices_minus.append(\n",
    "                inclusion_maximal_intervals_of_the_negative_part[p-1][0]+size)\n",
    "    elif bstring[0] and bstring[-1]:  # see Proposition 5.9(ii)\n",
    "        part_of_indices_minus.append(size)\n",
    "        if(rho > 1):\n",
    "            part_of_indices_plus.append(\n",
    "                inclusion_maximal_intervals_of_the_negative_part[0][1]+1)\n",
    "        for p in range(2, rho):\n",
    "            part_of_indices_plus.append(\n",
    "                inclusion_maximal_intervals_of_the_negative_part[p-1][1]+1)\n",
    "            part_of_indices_minus.append(\n",
    "                inclusion_maximal_intervals_of_the_negative_part[p-1][0]+size)\n",
    "        if(rho > 1):\n",
    "            part_of_indices_minus.append(\n",
    "                inclusion_maximal_intervals_of_the_negative_part[rho-1][0]+size)\n",
    "    elif (not bstring[0]) and (not bstring[-1]):  # see Proposition 5.9(iii)\n",
    "        part_of_indices_plus.append(0)\n",
    "        for p in range(1, rho + 1):\n",
    "            part_of_indices_plus.append(\n",
    "                inclusion_maximal_intervals_of_the_negative_part[p-1][1]+1)\n",
    "            part_of_indices_minus.append(\n",
    "                inclusion_maximal_intervals_of_the_negative_part[p-1][0]+size)\n",
    "    else:  # i.e., (not bstring[0]) and bstring[-1]; see Proposition 5.9(iv)\n",
    "        for p in range(1, rho):\n",
    "            part_of_indices_plus.append(\n",
    "                inclusion_maximal_intervals_of_the_negative_part[p-1][1]+1)\n",
    "            part_of_indices_minus.append(\n",
    "                inclusion_maximal_intervals_of_the_negative_part[p-1][0]+size)\n",
    "        part_of_indices_minus.append(\n",
    "            inclusion_maximal_intervals_of_the_negative_part[rho-1][0]+size)\n",
    "    return(part_of_indices_plus + part_of_indices_minus)\n",
    "\n",
    "\n",
    "def linear_algebraic_portrait_8xt_of_file(filename: str) -> tuple[int, int, deque[deque]]:\n",
    "    portrait = deque()\n",
    "    bits_of_our_file_as_bools = Bits(filename=filename)\n",
    "    for k in range(0, 8):\n",
    "        bits_in_the_same_position_k = bits_of_our_file_as_bools[k::8]\n",
    "        if not k:\n",
    "            portrait.append(8)\n",
    "            portrait.append(len(bits_in_the_same_position_k))\n",
    "        portrait.append(to_deque_indices_of_vectors_in_decomp_sequence_wrt_disting_symm_cycle(\n",
    "            bits_in_the_same_position_k))\n",
    "    return(portrait)\n",
    "\n",
    "\n",
    "### And now, an experiment follows. Cf. the portrait  (2.11)  ###\n",
    "### in the preprint https://arxiv.org/abs/2303.16135          ###\n",
    "\n",
    "print()\n",
    "for item in linear_algebraic_portrait_8xt_of_file(\"Desdemona.txt\"):\n",
    "    print(item)\n"
   ]
  }
 ],
 "metadata": {
  "kernelspec": {
   "display_name": "Python 3",
   "language": "python",
   "name": "python3"
  },
  "language_info": {
   "codemirror_mode": {
    "name": "ipython",
    "version": 3
   },
   "file_extension": ".py",
   "mimetype": "text/x-python",
   "name": "python",
   "nbconvert_exporter": "python",
   "pygments_lexer": "ipython3",
   "version": "3.11.0"
  },
  "orig_nbformat": 4
 },
 "nbformat": 4,
 "nbformat_minor": 2
}
