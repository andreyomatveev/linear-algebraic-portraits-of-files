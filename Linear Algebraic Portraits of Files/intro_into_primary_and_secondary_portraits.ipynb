{
 "cells": [
  {
   "attachments": {},
   "cell_type": "markdown",
   "metadata": {},
   "source": [
    "# Linear Algebraic Portraits of Binary Arrays and Files #"
   ]
  },
  {
   "attachments": {},
   "cell_type": "markdown",
   "metadata": {},
   "source": [
    "## Exact Portraits ##"
   ]
  },
  {
   "attachments": {},
   "cell_type": "markdown",
   "metadata": {},
   "source": [
    "\n",
    "### The Primary Exact Portrait ###"
   ]
  },
  {
   "attachments": {},
   "cell_type": "markdown",
   "metadata": {},
   "source": [
    "\n",
    "Let us consider the text file Desdemona.txt that consists of the string:\n",
    "\n",
    "Have you pray'd to-night, Desdemona?\n",
    "\n",
    "Let us take the view of the file as the 8 x 36 *binary matrix/array* whose *columns* are the `transposed' *bytes* (in the context of *ASCII*/*UTF-8* encoding) of the file. By our convention, the rows and columns of the array are indexed starting with 1. \n",
    "\n",
    "We can have a look at this array by running the code:"
   ]
  },
  {
   "cell_type": "code",
   "execution_count": 2,
   "metadata": {},
   "outputs": [
    {
     "name": "stdout",
     "output_type": "stream",
     "text": [
      "000000000000000000000000000000000000\n",
      "111101110111101011011111001111111110\n",
      "011111111111111111111111110111111111\n",
      "001001010110100010000001000010000001\n",
      "100001100000100001111010100000011101\n",
      "001100110000011011110101101101111101\n",
      "001000100010010001010100000010001101\n",
      "010101110001110001101100000110111011\n"
     ]
    }
   ],
   "source": [
    "from bitstring import Bits\n",
    "\n",
    "\n",
    "bits_of_our_file_as_bools = Bits(filename=\"Desdemona.txt\")\n",
    "for k in range(0, 8):\n",
    "    bits_in_the_same_position_k = bits_of_our_file_as_bools[k::8]\n",
    "    print(bits_in_the_same_position_k.bin)\n"
   ]
  },
  {
   "attachments": {},
   "cell_type": "markdown",
   "metadata": {},
   "source": [
    "The file Desdemona.txt is perfectly small for being also inspected with the help of pandas-2:"
   ]
  },
  {
   "cell_type": "code",
   "execution_count": 3,
   "metadata": {},
   "outputs": [
    {
     "name": "stdout",
     "output_type": "stream",
     "text": [
      "           1      2      3      4      5      6      7      8      9      10   \n",
      "bit 1:  False  False  False  False  False  False  False  False  False  False  \\\n",
      "bit 2:   True   True   True   True  False   True   True   True  False   True   \n",
      "bit 3:  False   True   True   True   True   True   True   True   True   True   \n",
      "bit 4:  False  False   True  False  False   True  False   True  False   True   \n",
      "bit 5:   True  False  False  False  False   True   True  False  False  False   \n",
      "bit 6:  False  False   True   True  False  False   True   True  False  False   \n",
      "bit 7:  False  False   True  False  False  False   True  False  False  False   \n",
      "bit 8:  False   True  False   True  False   True   True   True  False  False   \n",
      "\n",
      "        ...     27     28     29     30     31     32     33     34     35   \n",
      "bit 1:  ...  False  False  False  False  False  False  False  False  False  \\\n",
      "bit 2:  ...   True   True   True   True   True   True   True   True   True   \n",
      "bit 3:  ...  False   True   True   True   True   True   True   True   True   \n",
      "bit 4:  ...  False  False   True  False  False  False  False  False  False   \n",
      "bit 5:  ...  False  False  False  False  False   True   True   True  False   \n",
      "bit 6:  ...   True   True  False   True   True   True   True   True  False   \n",
      "bit 7:  ...  False  False   True  False  False  False   True   True  False   \n",
      "bit 8:  ...  False   True   True  False   True   True   True  False   True   \n",
      "\n",
      "           36  \n",
      "bit 1:  False  \n",
      "bit 2:  False  \n",
      "bit 3:   True  \n",
      "bit 4:   True  \n",
      "bit 5:   True  \n",
      "bit 6:   True  \n",
      "bit 7:   True  \n",
      "bit 8:   True  \n",
      "\n",
      "[8 rows x 36 columns]\n"
     ]
    }
   ],
   "source": [
    "import pyarrow\n",
    "import pandas as pd\n",
    "\n",
    "from bitstring import Bits\n",
    "\n",
    "indices = [\"bit 1:\", \"bit 2:\", \"bit 3:\", \"bit 4:\",\n",
    "           \"bit 5:\", \"bit 6:\", \"bit 7:\", \"bit 8:\"]\n",
    "\n",
    "bits_of_our_file_as_bools = Bits(filename=\"Desdemona.txt\")\n",
    "\n",
    "our_bytes_for_pd_series = dict()\n",
    "counter = 0\n",
    "for byte in bits_of_our_file_as_bools.cut(8):\n",
    "    counter += 1\n",
    "    our_bytes_for_pd_series[counter] = pd.Series(\n",
    "        byte, index=indices, dtype=\"bool[pyarrow]\")\n",
    "\n",
    "our_df = pd.DataFrame(our_bytes_for_pd_series)\n",
    "\n",
    "print(our_df)\n"
   ]
  },
  {
   "attachments": {},
   "cell_type": "markdown",
   "metadata": {},
   "source": [
    "All that remains to do now is to make the imaginable substitutions (0 -> 1) and (1 -> -1) for the entries of our initial array, and then \n",
    "to apply Proposition 5.9 (essentially Proposition 2.4 from the preprint https://arxiv.org/abs/1801.02601) from the monograph A.O. Matveev, Symmetric Cycles, Singapore: Jenny Stanford Publishing, 2023, to the resulting rows:  "
   ]
  },
  {
   "cell_type": "code",
   "execution_count": 4,
   "metadata": {},
   "outputs": [],
   "source": [
    "from bitstring import Bits\n",
    "from itertools import groupby\n",
    "from collections import deque\n",
    "\n",
    "\n",
    "def to_deque_indices_of_vectors_in_decomp_sequence_wrt_disting_symm_cycle(bstring: Bits) -> deque[int]:\n",
    "\n",
    "    size = len(bstring)\n",
    "\n",
    "    # The following heavy-weight function is split below into smaller fragments.\n",
    "    inclusion_maximal_intervals_of_the_negative_part = deque(map(lambda b: (b[0][1], b[-1][1]),\n",
    "                                                             map(lambda p: deque(p[1]),\n",
    "                                                                 filter(lambda group: group[0],\n",
    "                                                                        groupby(zip(bstring, range(len(bstring))),\n",
    "                                                                                lambda b_i: b_i[0])))))\n",
    "    # Uncomment four lines below if you wish to split the above heavy-weight function into lighter fragments.\n",
    "    #\n",
    "    # b_indexed = zip(bstring, range(len(bstring)))\n",
    "    # grouped = groupby(b_indexed, lambda b_i: b_i[0])\n",
    "    # inclusion_maximal_blocks_of_the_negative_part = map(lambda p: deque(p[1]), filter(lambda group: group[0], grouped))\n",
    "    # inclusion_maximal_intervals_of_the_negative_part = deque(map(lambda b: (b[0][1], b[-1][1]), inclusion_maximal_blocks_of_the_negative_part))\n",
    "\n",
    "    rho = len(inclusion_maximal_intervals_of_the_negative_part)\n",
    "    part_of_indices_plus, part_of_indices_minus = deque(), deque()\n",
    "\n",
    "    # The if-elif-else fragment starting here merely automates the key Proposition 5.9\n",
    "    # (essentially Proposition 2.4 from the preprint https://arxiv.org/abs/1801.02601)\n",
    "    # from the monograph A.O. Matveev, Symmetric Cycles, Singapore: Jenny Stanford Publishing, to appear.\n",
    "    # Attention: Proposition 5.9 was formulated for {1,-1}-vectors!\n",
    "    if bstring[0] and not bstring[-1]:  # see Proposition 5.9(i)\n",
    "        part_of_indices_plus.append(\n",
    "            inclusion_maximal_intervals_of_the_negative_part[0][1]+1)\n",
    "        for p in range(2, rho + 1):\n",
    "            part_of_indices_plus.append(\n",
    "                inclusion_maximal_intervals_of_the_negative_part[p-1][1]+1)\n",
    "            part_of_indices_minus.append(\n",
    "                inclusion_maximal_intervals_of_the_negative_part[p-1][0]+size)\n",
    "    elif bstring[0] and bstring[-1]:  # see Proposition 5.9(ii)\n",
    "        part_of_indices_minus.append(size)\n",
    "        if(rho > 1):\n",
    "            part_of_indices_plus.append(\n",
    "                inclusion_maximal_intervals_of_the_negative_part[0][1]+1)\n",
    "        for p in range(2, rho):\n",
    "            part_of_indices_plus.append(\n",
    "                inclusion_maximal_intervals_of_the_negative_part[p-1][1]+1)\n",
    "            part_of_indices_minus.append(\n",
    "                inclusion_maximal_intervals_of_the_negative_part[p-1][0]+size)\n",
    "        if(rho > 1):\n",
    "            part_of_indices_minus.append(\n",
    "                inclusion_maximal_intervals_of_the_negative_part[rho-1][0]+size)\n",
    "    elif (not bstring[0]) and (not bstring[-1]):  # see Proposition 5.9(iii)\n",
    "        part_of_indices_plus.append(0)\n",
    "        for p in range(1, rho + 1):\n",
    "            part_of_indices_plus.append(\n",
    "                inclusion_maximal_intervals_of_the_negative_part[p-1][1]+1)\n",
    "            part_of_indices_minus.append(\n",
    "                inclusion_maximal_intervals_of_the_negative_part[p-1][0]+size)\n",
    "    else:  # i.e., (not bstring[0]) and bstring[-1]; see Proposition 5.9(iv)\n",
    "        for p in range(1, rho):\n",
    "            part_of_indices_plus.append(\n",
    "                inclusion_maximal_intervals_of_the_negative_part[p-1][1]+1)\n",
    "            part_of_indices_minus.append(\n",
    "                inclusion_maximal_intervals_of_the_negative_part[p-1][0]+size)\n",
    "        part_of_indices_minus.append(\n",
    "            inclusion_maximal_intervals_of_the_negative_part[rho-1][0]+size)\n",
    "    return(part_of_indices_plus + part_of_indices_minus)\n",
    "\n",
    "\n",
    "def linear_algebraic_portrait_8xt_of_file(filename: str) -> tuple[int, int, deque[deque]]:\n",
    "    portrait = deque()\n",
    "    bits_of_our_file_as_bools = Bits(filename=filename)\n",
    "    for k in range(0, 8):\n",
    "        bits_in_the_same_position_k = bits_of_our_file_as_bools[k::8]\n",
    "        if not k:\n",
    "            portrait.append(len(bits_in_the_same_position_k))\n",
    "            portrait.append(8)\n",
    "        portrait.append(to_deque_indices_of_vectors_in_decomp_sequence_wrt_disting_symm_cycle(\n",
    "            bits_in_the_same_position_k))\n",
    "    return(portrait)\n"
   ]
  },
  {
   "attachments": {},
   "cell_type": "markdown",
   "metadata": {},
   "source": [
    "And now, an experiment follows. Cf. the portrait  (2.11) in the preprint https://arxiv.org/abs/2303.16135."
   ]
  },
  {
   "cell_type": "code",
   "execution_count": 5,
   "metadata": {},
   "outputs": [
    {
     "name": "stdout",
     "output_type": "stream",
     "text": [
      "\n",
      "36\n",
      "8\n",
      "deque([0])\n",
      "deque([4, 8, 13, 15, 18, 24, 35, 41, 45, 50, 52, 55, 62])\n",
      "deque([26, 37, 63])\n",
      "deque([3, 6, 8, 11, 13, 17, 24, 29, 38, 41, 43, 45, 48, 52, 59, 64, 71])\n",
      "deque([1, 7, 13, 21, 23, 25, 34, 36, 41, 48, 53, 58, 60, 67, 71])\n",
      "deque([4, 8, 15, 20, 22, 25, 28, 34, 38, 42, 49, 52, 57, 59, 62, 65, 71])\n",
      "deque([3, 7, 11, 14, 18, 20, 22, 29, 34, 38, 42, 46, 49, 53, 55, 57, 64, 68, 71])\n",
      "deque([2, 4, 8, 14, 19, 22, 29, 33, 37, 39, 41, 47, 53, 56, 63, 66, 70])\n"
     ]
    }
   ],
   "source": [
    "print()\n",
    "for item in linear_algebraic_portrait_8xt_of_file(\"Desdemona.txt\"):\n",
    "    print(item)\n"
   ]
  },
  {
   "attachments": {},
   "cell_type": "markdown",
   "metadata": {},
   "source": [
    "### Secondary Exact Portraits ###"
   ]
  },
  {
   "attachments": {},
   "cell_type": "markdown",
   "metadata": {},
   "source": [
    "1) For each $i$, $1\\leq i\\leq 8$, fix the least index $k_0$ of the vertex in the $i$-th decomposition set. Now list all the distances between the consecutive pairs of the vertices from that $i$-th decomposition set, *including* the distance between the last vertex and the first vertex (i.e., the vertex with the index $k_0$)."
   ]
  },
  {
   "cell_type": "code",
   "execution_count": 6,
   "metadata": {},
   "outputs": [],
   "source": [
    "from itertools import pairwise\n",
    "\n",
    "\n",
    "def redundant_linear_algebraic_portrait_8xt_of_file_via_distances(filename: str) -> tuple[int, int, deque[tuple[int, deque[int]]]]:\n",
    "    portrait = deque()\n",
    "    bits_of_our_file_as_bools = Bits(filename=filename)\n",
    "    for k in range(0, 8):\n",
    "        bits_in_the_same_position_k = bits_of_our_file_as_bools[k::8]\n",
    "        if not k:\n",
    "            portrait.append(size := len(bits_in_the_same_position_k))\n",
    "            portrait.append(8)\n",
    "        indices_of_vectors_in_decomp_sequence = to_deque_indices_of_vectors_in_decomp_sequence_wrt_disting_symm_cycle(\n",
    "            bits_in_the_same_position_k)\n",
    "        minor_index = indices_of_vectors_in_decomp_sequence[0]\n",
    "        major_index = indices_of_vectors_in_decomp_sequence[-1]\n",
    "        if len(indices_of_vectors_in_decomp_sequence) == 1:\n",
    "            distance_tuple_k = deque([2*size - major_index + minor_index])\n",
    "        else:\n",
    "            distance_tuple_k = deque(map(lambda pair: pair[1] - pair[0], pairwise(\n",
    "                indices_of_vectors_in_decomp_sequence)))\n",
    "            distance_tuple_k.append(2*size - major_index + minor_index)\n",
    "        portrait.append(tuple([minor_index, distance_tuple_k]))\n",
    "    return(portrait)\n"
   ]
  },
  {
   "attachments": {},
   "cell_type": "markdown",
   "metadata": {},
   "source": [
    "We obtain a secondary exact (yet redundant) portrait that involves pairwise distances. An experiment follows:"
   ]
  },
  {
   "cell_type": "code",
   "execution_count": 7,
   "metadata": {},
   "outputs": [
    {
     "name": "stdout",
     "output_type": "stream",
     "text": [
      "\n",
      "36\n",
      "8\n",
      "(0, deque([72]))\n",
      "(4, deque([4, 5, 2, 3, 6, 11, 6, 4, 5, 2, 3, 7, 14]))\n",
      "(26, deque([11, 26, 35]))\n",
      "(3, deque([3, 2, 3, 2, 4, 7, 5, 9, 3, 2, 2, 3, 4, 7, 5, 7, 4]))\n",
      "(1, deque([6, 6, 8, 2, 2, 9, 2, 5, 7, 5, 5, 2, 7, 4, 2]))\n",
      "(4, deque([4, 7, 5, 2, 3, 3, 6, 4, 4, 7, 3, 5, 2, 3, 3, 6, 5]))\n",
      "(3, deque([4, 4, 3, 4, 2, 2, 7, 5, 4, 4, 4, 3, 4, 2, 2, 7, 4, 3, 4]))\n",
      "(2, deque([2, 4, 6, 5, 3, 7, 4, 4, 2, 2, 6, 6, 3, 7, 3, 4, 4]))\n"
     ]
    }
   ],
   "source": [
    "print()\n",
    "for item in redundant_linear_algebraic_portrait_8xt_of_file_via_distances(\"Desdemona.txt\"):\n",
    "    print(item)\n"
   ]
  },
  {
   "attachments": {},
   "cell_type": "markdown",
   "metadata": {},
   "source": [
    "Note that for every $i$, $1\\leq i\\leq 8$, the corresponding deque of nonnegative integers appearing in the above portrait represents a *composition* of the integer $2t$, where $t:=36$ is the *number of bytes* in the file Desdemona.txt.    "
   ]
  },
  {
   "attachments": {},
   "cell_type": "markdown",
   "metadata": {},
   "source": [
    "2) For each $i$, $1\\leq i\\leq 8$, fix the least index $k_0$ of the vertex in the $i$-th decomposition set. Now list all the distances between the consecutive pairs of the vertices from that $i$-th decomposition set, *excluding* the distance between the last vertex and the first vertex (i.e., the vertex with the index $k_0$)."
   ]
  },
  {
   "cell_type": "code",
   "execution_count": 8,
   "metadata": {},
   "outputs": [],
   "source": [
    "def irredundant_linear_algebraic_portrait_8xt_of_file_via_distances(filename: str) -> tuple[int, int, deque[tuple[int, deque[int]]]]:\n",
    "    portrait = deque()\n",
    "    bits_of_our_file_as_bools = Bits(filename=filename)\n",
    "    for k in range(0, 8):\n",
    "        bits_in_the_same_position_k = bits_of_our_file_as_bools[k::8]\n",
    "        if not k:\n",
    "            portrait.append(size := len(bits_in_the_same_position_k))\n",
    "            portrait.append(8)\n",
    "        indices_of_vectors_in_decomp_sequence = to_deque_indices_of_vectors_in_decomp_sequence_wrt_disting_symm_cycle(\n",
    "            bits_in_the_same_position_k)\n",
    "        minor_index = indices_of_vectors_in_decomp_sequence[0]\n",
    "        if len(indices_of_vectors_in_decomp_sequence) == 1:\n",
    "            distance_tuple_k = deque()\n",
    "        else:\n",
    "            distance_tuple_k = deque(map(lambda pair: pair[1] - pair[0], pairwise(\n",
    "                indices_of_vectors_in_decomp_sequence)))\n",
    "        portrait.append(tuple([minor_index, distance_tuple_k]))\n",
    "    return(portrait)\n"
   ]
  },
  {
   "attachments": {},
   "cell_type": "markdown",
   "metadata": {},
   "source": [
    "We obtain a secondary exact (irredundant) portrait that involves pairwise distances. An experiment follows:"
   ]
  },
  {
   "cell_type": "code",
   "execution_count": 9,
   "metadata": {},
   "outputs": [
    {
     "name": "stdout",
     "output_type": "stream",
     "text": [
      "36\n",
      "8\n",
      "(0, deque([]))\n",
      "(4, deque([4, 5, 2, 3, 6, 11, 6, 4, 5, 2, 3, 7]))\n",
      "(26, deque([11, 26]))\n",
      "(3, deque([3, 2, 3, 2, 4, 7, 5, 9, 3, 2, 2, 3, 4, 7, 5, 7]))\n",
      "(1, deque([6, 6, 8, 2, 2, 9, 2, 5, 7, 5, 5, 2, 7, 4]))\n",
      "(4, deque([4, 7, 5, 2, 3, 3, 6, 4, 4, 7, 3, 5, 2, 3, 3, 6]))\n",
      "(3, deque([4, 4, 3, 4, 2, 2, 7, 5, 4, 4, 4, 3, 4, 2, 2, 7, 4, 3]))\n",
      "(2, deque([2, 4, 6, 5, 3, 7, 4, 4, 2, 2, 6, 6, 3, 7, 3, 4]))\n"
     ]
    }
   ],
   "source": [
    "for item in irredundant_linear_algebraic_portrait_8xt_of_file_via_distances(\"Desdemona.txt\"):\n",
    "    print(item)\n"
   ]
  },
  {
   "attachments": {},
   "cell_type": "markdown",
   "metadata": {},
   "source": [
    "3) Yet another secondary exact (and irredundant) portrait can be created, in a more exotic manner, in the following way: Take the primary exact portrait. For each $i$, $1\\leq i\\leq 8$, fix the least index $k_0$ of the vertex in the $i$-th decomposition set. If this decomposition set is *not* a *singleton*, then substitute each index $k_s$, where $s>0$, by the fraction $\\tfrac{m}{n}=\\tfrac{k_s-k_0}{2t}$, where the integers $m$ and $n$ are *relatively prime*. Thus, each resulting fraction is an element of the *Farey sequence* of *order* $2t$,  where again $t:=36$ is the number of bytes in the file Desdemona.txt."
   ]
  },
  {
   "cell_type": "code",
   "execution_count": 10,
   "metadata": {},
   "outputs": [],
   "source": [
    "from fractions import Fraction\n",
    "\n",
    "\n",
    "def irredundant_linear_algebraic_portrait_8xt_of_file_via_fractions(filename: str) -> tuple[int, int, deque[tuple[int, deque[Fraction]]]]:\n",
    "    portrait = deque()\n",
    "    bits_of_our_file_as_bools = Bits(filename=filename)\n",
    "    size = len(bits_of_our_file_as_bools) // 8\n",
    "    doubled_size = 2 * size\n",
    "    for k in range(0, 8):\n",
    "        bits_in_the_same_position_k = bits_of_our_file_as_bools[k::8]\n",
    "        if not k:\n",
    "            portrait.append(size)\n",
    "            portrait.append(8)\n",
    "        indices_of_vectors_in_decomp_sequence = to_deque_indices_of_vectors_in_decomp_sequence_wrt_disting_symm_cycle(\n",
    "            bits_in_the_same_position_k)\n",
    "        minor_index, *tail_of_indices = indices_of_vectors_in_decomp_sequence\n",
    "        if len(indices_of_vectors_in_decomp_sequence) == 1:\n",
    "            fraction_tuple_k = deque()\n",
    "        else:\n",
    "            fraction_tuple_k = deque(map(lambda index: Fraction(\n",
    "                index - minor_index, doubled_size), tail_of_indices))\n",
    "        portrait.append(tuple([minor_index, fraction_tuple_k]))\n",
    "    return(portrait)\n"
   ]
  },
  {
   "attachments": {},
   "cell_type": "markdown",
   "metadata": {},
   "source": [
    "We obtain a secondary exact (irredundant) portrait that imvolves fractions. An experiment follows:"
   ]
  },
  {
   "cell_type": "code",
   "execution_count": 13,
   "metadata": {},
   "outputs": [
    {
     "name": "stdout",
     "output_type": "stream",
     "text": [
      "36\n",
      "8\n",
      "(0, deque([]))\n",
      "(4, deque([Fraction(1, 18), Fraction(1, 8), Fraction(11, 72), Fraction(7, 36), Fraction(5, 18), Fraction(31, 72), Fraction(37, 72), Fraction(41, 72), Fraction(23, 36), Fraction(2, 3), Fraction(17, 24), Fraction(29, 36)]))\n",
      "(26, deque([Fraction(11, 72), Fraction(37, 72)]))\n",
      "(3, deque([Fraction(1, 24), Fraction(5, 72), Fraction(1, 9), Fraction(5, 36), Fraction(7, 36), Fraction(7, 24), Fraction(13, 36), Fraction(35, 72), Fraction(19, 36), Fraction(5, 9), Fraction(7, 12), Fraction(5, 8), Fraction(49, 72), Fraction(7, 9), Fraction(61, 72), Fraction(17, 18)]))\n",
      "(1, deque([Fraction(1, 12), Fraction(1, 6), Fraction(5, 18), Fraction(11, 36), Fraction(1, 3), Fraction(11, 24), Fraction(35, 72), Fraction(5, 9), Fraction(47, 72), Fraction(13, 18), Fraction(19, 24), Fraction(59, 72), Fraction(11, 12), Fraction(35, 36)]))\n",
      "(4, deque([Fraction(1, 18), Fraction(11, 72), Fraction(2, 9), Fraction(1, 4), Fraction(7, 24), Fraction(1, 3), Fraction(5, 12), Fraction(17, 36), Fraction(19, 36), Fraction(5, 8), Fraction(2, 3), Fraction(53, 72), Fraction(55, 72), Fraction(29, 36), Fraction(61, 72), Fraction(67, 72)]))\n",
      "(3, deque([Fraction(1, 18), Fraction(1, 9), Fraction(11, 72), Fraction(5, 24), Fraction(17, 72), Fraction(19, 72), Fraction(13, 36), Fraction(31, 72), Fraction(35, 72), Fraction(13, 24), Fraction(43, 72), Fraction(23, 36), Fraction(25, 36), Fraction(13, 18), Fraction(3, 4), Fraction(61, 72), Fraction(65, 72), Fraction(17, 18)]))\n",
      "(2, deque([Fraction(1, 36), Fraction(1, 12), Fraction(1, 6), Fraction(17, 72), Fraction(5, 18), Fraction(3, 8), Fraction(31, 72), Fraction(35, 72), Fraction(37, 72), Fraction(13, 24), Fraction(5, 8), Fraction(17, 24), Fraction(3, 4), Fraction(61, 72), Fraction(8, 9), Fraction(17, 18)]))\n"
     ]
    }
   ],
   "source": [
    "for item in irredundant_linear_algebraic_portrait_8xt_of_file_via_fractions(\"Desdemona.txt\"):\n",
    "    print(item)\n"
   ]
  }
 ],
 "metadata": {
  "kernelspec": {
   "display_name": "Python 3",
   "language": "python",
   "name": "python3"
  },
  "language_info": {
   "codemirror_mode": {
    "name": "ipython",
    "version": 3
   },
   "file_extension": ".py",
   "mimetype": "text/x-python",
   "name": "python",
   "nbconvert_exporter": "python",
   "pygments_lexer": "ipython3",
   "version": "3.11.0"
  },
  "orig_nbformat": 4
 },
 "nbformat": 4,
 "nbformat_minor": 2
}
